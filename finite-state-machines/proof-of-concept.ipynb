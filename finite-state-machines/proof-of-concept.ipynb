{
 "cells": [
  {
   "cell_type": "markdown",
   "id": "53d83a33-f04f-4866-84cf-9c6ba88f1809",
   "metadata": {},
   "source": [
    "# Introduction to Finite State Machines (FSM)\n",
    "\n",
    "### Definitions:\n",
    "\n",
    "A Finite State Machine is a model used to represent event-driven systems. Those systems can be hardware, software or even simple diagrams.\n",
    "\n",
    "- $Q$: A finite set of states.\n",
    "  \n",
    "- ${q_{0}} \\in Q$: The initial state.\n",
    "\n",
    "- $S \\subseteq Q$: A subset of reachable states.\n",
    "\n",
    "- $\\sum$: A finite input label.\n",
    "\n",
    "- $\\delta$: A transition function that maps $Q$ x $\\sum$ to $Q$"
   ]
  },
  {
   "cell_type": "code",
   "execution_count": null,
   "id": "3f407edc-c3eb-49f4-a552-255a579a7b4b",
   "metadata": {},
   "outputs": [],
   "source": []
  },
  {
   "cell_type": "code",
   "execution_count": null,
   "id": "acabb9ec-bbaa-4208-bdaa-84d3f3f4fdb2",
   "metadata": {},
   "outputs": [],
   "source": []
  },
  {
   "cell_type": "code",
   "execution_count": null,
   "id": "cff2255f-cf03-421c-9b53-f32bf99314fc",
   "metadata": {},
   "outputs": [],
   "source": []
  },
  {
   "cell_type": "code",
   "execution_count": null,
   "id": "6a93cdb1-a4e7-413d-bdb6-9d382f65d15d",
   "metadata": {},
   "outputs": [],
   "source": []
  },
  {
   "cell_type": "code",
   "execution_count": null,
   "id": "a3efffa1-2acf-48e7-b89f-1c64f4511af7",
   "metadata": {},
   "outputs": [],
   "source": []
  },
  {
   "cell_type": "code",
   "execution_count": null,
   "id": "e0df0ceb-c7b9-4b34-9721-13b84679aee0",
   "metadata": {},
   "outputs": [],
   "source": []
  },
  {
   "cell_type": "code",
   "execution_count": null,
   "id": "91901890-8f7d-4876-8d54-1a8f8c0cf4b7",
   "metadata": {},
   "outputs": [],
   "source": []
  },
  {
   "cell_type": "code",
   "execution_count": null,
   "id": "cb0acadf-d528-42be-ad58-88cd0df3132e",
   "metadata": {},
   "outputs": [],
   "source": []
  },
  {
   "cell_type": "code",
   "execution_count": null,
   "id": "4c70ac27-4338-4b3f-9821-6b4b80171359",
   "metadata": {},
   "outputs": [],
   "source": []
  },
  {
   "cell_type": "code",
   "execution_count": null,
   "id": "4dabc574-d95a-42e5-972a-4d9e9a468455",
   "metadata": {},
   "outputs": [],
   "source": []
  },
  {
   "cell_type": "code",
   "execution_count": null,
   "id": "af02cde2-152a-4809-9cd5-98ca5fafea83",
   "metadata": {},
   "outputs": [],
   "source": []
  },
  {
   "cell_type": "code",
   "execution_count": null,
   "id": "f0619892-d692-4fcc-b096-0052797a0b71",
   "metadata": {},
   "outputs": [],
   "source": []
  },
  {
   "cell_type": "markdown",
   "id": "c2889c0b-93bd-40d3-9454-bf2867ba186d",
   "metadata": {},
   "source": []
  }
 ],
 "metadata": {
  "kernelspec": {
   "display_name": "Python 3 (ipykernel)",
   "language": "python",
   "name": "python3"
  },
  "language_info": {
   "codemirror_mode": {
    "name": "ipython",
    "version": 3
   },
   "file_extension": ".py",
   "mimetype": "text/x-python",
   "name": "python",
   "nbconvert_exporter": "python",
   "pygments_lexer": "ipython3",
   "version": "3.12.3"
  }
 },
 "nbformat": 4,
 "nbformat_minor": 5
}
